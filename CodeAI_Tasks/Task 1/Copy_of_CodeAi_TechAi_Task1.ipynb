{
  "nbformat": 4,
  "nbformat_minor": 0,
  "metadata": {
    "colab": {
      "provenance": []
    },
    "kernelspec": {
      "name": "python3",
      "display_name": "Python 3"
    },
    "language_info": {
      "name": "python"
    }
  },
  "cells": [
    {
      "cell_type": "markdown",
      "source": [
        "# ***FOR DOING THE TASK MAKE THE COPY OF THIS COLLAB FILE IN YOUR DRIVE***"
      ],
      "metadata": {
        "id": "XnP1PxmLWjlC"
      }
    },
    {
      "cell_type": "markdown",
      "source": [
        "### 1. Python Basics & Control Structures\n",
        "\n",
        "*Task*:\n",
        "\n",
        "* Write a Python program that:\n",
        "\n",
        "  * Takes a list of strings (e.g., [\"apple\", \"banana\", \"grape\", \"kiwi\", \"orange\"]).\n",
        "  * Filters out fruits with more than 5 characters using a for loop and if statement.\n",
        "  * For each fruit, print its length.\n",
        "\n",
        "*Example Input*:\n",
        "\n",
        "python\n",
        "fruits = [\"apple\", \"banana\", \"grape\", \"kiwi\", \"orange\"]"
      ],
      "metadata": {
        "id": "RBNeAaOLxbe5"
      }
    },
    {
      "cell_type": "code",
      "execution_count": 3,
      "metadata": {
        "id": "NcI_p7F0vFhz",
        "colab": {
          "base_uri": "https://localhost:8080/"
        },
        "outputId": "12951831-2b34-4eac-acaa-c2c8f8734980"
      },
      "outputs": [
        {
          "output_type": "stream",
          "name": "stdout",
          "text": [
            "Lenght of apple = 5\n",
            "banana has length > 5\n",
            "Lenght of banana = 6\n",
            "Lenght of grape = 5\n",
            "Lenght of kiwi = 4\n",
            "orange has length > 5\n",
            "Lenght of orange = 6\n"
          ]
        }
      ],
      "source": [
        "fruit_list = [\"apple\", \"banana\", \"grape\", \"kiwi\", \"orange\"]\n",
        "for fruit in fruit_list:\n",
        "  if len(fruit) > 5:\n",
        "    print(f\"{fruit} has length > 5\")\n",
        "  print(f\"Lenght of {fruit} = {len(fruit)}\")"
      ]
    },
    {
      "cell_type": "markdown",
      "source": [
        "\n",
        "*Expected Output*:\n",
        "\n",
        "\n",
        "The fruit apple has 5 characters.\n",
        "\n",
        "The fruit banana has 6 characters.\n",
        "\n",
        "The fruit orange has 6 characters.\n"
      ],
      "metadata": {
        "id": "sQeiBzi9xjIl"
      }
    },
    {
      "cell_type": "markdown",
      "source": [
        "### 2. Functions & Lambda\n",
        "\n",
        "*Task*:\n",
        "\n",
        "* Write a function that takes a list of integers and a threshold value. Use a **lambda* function inside filter() to return a list of numbers greater than the threshold.\n",
        "\n",
        "\n",
        "  # Test the function with a list [1, 5, 10, 3, 8] and threshold 5\n",
        "\n",
        "\n",
        "\n",
        "\n"
      ],
      "metadata": {
        "id": "k12WGkNoyAgY"
      }
    },
    {
      "cell_type": "code",
      "source": [
        "def filter_numbers(numbers: list, threshold: int) -> list:\n",
        "  a = filter(lambda x: x>threshold,numbers)\n",
        "  return list(a)\n",
        "\n",
        "filter_numbers([1, 5, 10, 3, 8], 5)"
      ],
      "metadata": {
        "id": "xSLokk2iy1OQ",
        "colab": {
          "base_uri": "https://localhost:8080/"
        },
        "outputId": "85233e94-0636-453a-8957-1fa7f1508255"
      },
      "execution_count": 4,
      "outputs": [
        {
          "output_type": "execute_result",
          "data": {
            "text/plain": [
              "[10, 8]"
            ]
          },
          "metadata": {},
          "execution_count": 4
        }
      ]
    },
    {
      "cell_type": "markdown",
      "source": [
        "### 3. Object-Oriented Programming (OOP)\n",
        "\n",
        "*Task*:\n",
        "\n",
        "* Implement a BankAccount class with methods for depositing, withdrawing, transferring, and checking balance.\n",
        "* Implement *Polymorphism* by overriding the __str__ method to provide a custom string representation of the account.\n",
        "\n",
        "\n",
        "# Example\n",
        "account_a = BankAccount(\"A123\", \"Alice\", 1000)\n",
        "\n",
        "account_b = BankAccount(\"B456\", \"Bob\", 500)\n",
        "\n",
        "account_a.deposit(200)\n",
        "\n",
        "account_a.transfer(300, account_b)\n"
      ],
      "metadata": {
        "id": "qFz4IBidxuK8"
      }
    },
    {
      "cell_type": "code",
      "source": [
        "class BankAccount:\n",
        "\n",
        "  def __init__(self,account_name,name,balance):\n",
        "    self.account_name = account_name\n",
        "    self.name = name\n",
        "    self.balance = balance\n",
        "\n",
        "  def deposit(self,amount):\n",
        "    self.balance += amount\n",
        "\n",
        "  def withdraw(self,amount):\n",
        "    if amount <= self.balance:\n",
        "      self.balance -= amount\n",
        "    else:\n",
        "      print(\"Insufficient Balance\")\n",
        "\n",
        "  def transfer(self,amount,account):\n",
        "    if amount <=self.balance:\n",
        "      self.balance -= amount\n",
        "      account.balance += amount\n",
        "    else:\n",
        "      print(\"Insufficient Balance\")\n",
        "\n",
        "  def check_balance(self):\n",
        "    print(f\"Balance = {self.balance}\")\n",
        "\n",
        "account_a = BankAccount(\"A123\", \"Alice\", 1000)\n",
        "account_b = BankAccount(\"B456\", \"Bob\", 500)\n",
        "account_a.deposit(200)\n",
        "account_a.transfer(300, account_b)\n",
        "account_a.check_balance()\n",
        "account_b.check_balance()"
      ],
      "metadata": {
        "id": "nkl25hP8zWJQ",
        "colab": {
          "base_uri": "https://localhost:8080/"
        },
        "outputId": "6cc0ae21-8e3c-424e-b2e8-61b6ed3ea346"
      },
      "execution_count": 11,
      "outputs": [
        {
          "output_type": "stream",
          "name": "stdout",
          "text": [
            "Balance = 900\n",
            "Balance = 800\n"
          ]
        }
      ]
    },
    {
      "cell_type": "markdown",
      "source": [
        "### 4. Exception Handling\n",
        "\n",
        "*Task*:\n",
        "\n",
        "* Write a divide_numbers(a, b) function with exception handling:\n",
        "\n",
        "  * Handle division by zero and invalid input (non-numeric values).\n",
        "\n",
        "\n",
        "# Test the function\n",
        "print(divide_numbers(10, 2))   # Valid input\n",
        "\n",
        "print(divide_numbers(10, 0))   # Division by zero\n",
        "\n",
        "print(divide_numbers(\"ten\", 2))  # Invalid input"
      ],
      "metadata": {
        "id": "R9op0Bt0xttt"
      }
    },
    {
      "cell_type": "code",
      "source": [
        "def divide_numbers(a: int,b: int):\n",
        "  try:\n",
        "    return a / b\n",
        "  except ZeroDivisionError as e:\n",
        "    print(e)\n",
        "  except TypeError as e:\n",
        "    print(e)\n",
        "\n",
        "print(divide_numbers(10, 2))\n",
        "print(divide_numbers(10, 0))\n",
        "print(divide_numbers(\"ten\", 2))"
      ],
      "metadata": {
        "id": "DEZfXk4V0A8_",
        "colab": {
          "base_uri": "https://localhost:8080/"
        },
        "outputId": "7c9ec94d-14df-4b79-b5c6-ecdebc3c5970"
      },
      "execution_count": 16,
      "outputs": [
        {
          "output_type": "stream",
          "name": "stdout",
          "text": [
            "5.0\n",
            "division by zero\n",
            "None\n",
            "unsupported operand type(s) for /: 'str' and 'int'\n",
            "None\n"
          ]
        }
      ]
    },
    {
      "cell_type": "markdown",
      "source": [
        "*Example Expected Output*:\n",
        "\n",
        "\n",
        "5.0\n",
        "\n",
        "Cannot divide by zero\n",
        "\n",
        "Invalid input, please enter numbers"
      ],
      "metadata": {
        "id": "UAfaux4e0LsB"
      }
    },
    {
      "cell_type": "markdown",
      "source": [
        "### 5. Python Modules & File Handling\n",
        "\n",
        "*Task*:\n",
        "\n",
        "* Write a Python program to:\n",
        "\n",
        "  * Create a text file \"students.txt\" with student names and marks.\n",
        "  * Read the file and print names of students with marks above 80.\n",
        "\n",
        "\n",
        "\n",
        "\n"
      ],
      "metadata": {
        "id": "_zo-t7xZ0ayU"
      }
    },
    {
      "cell_type": "code",
      "source": [
        "data = [\n",
        "    (\"Arthur\",90),\n",
        "    (\"John\",85),\n",
        "    (\"Dutch\",60),\n",
        "    (\"Bill\",45)\n",
        "]\n",
        "\n",
        "with open(\"students.txt\",\"w\") as f:\n",
        "  for name,marks in data:\n",
        "    f.write(f\"{name}\\t{marks}\"+\"\\n\")\n",
        "\n",
        "with open(\"students.txt\",\"r\") as f:\n",
        "  for line in f:\n",
        "    name,marks = line.split()\n",
        "    if int(marks) > 80:\n",
        "      print(name)"
      ],
      "metadata": {
        "id": "kp3PLXuv0_cU",
        "colab": {
          "base_uri": "https://localhost:8080/"
        },
        "outputId": "f6897104-4633-49ea-ce58-850b4d2e0936"
      },
      "execution_count": 44,
      "outputs": [
        {
          "output_type": "stream",
          "name": "stdout",
          "text": [
            "Arthur\n",
            "John\n"
          ]
        }
      ]
    },
    {
      "cell_type": "markdown",
      "source": [
        "\n",
        "*Expected Output*:\n",
        "\n",
        "\n",
        "Alice\n",
        "\n",
        "Bob\n",
        "\n",
        "David\n"
      ],
      "metadata": {
        "id": "BGTgVTJZ0_7b"
      }
    },
    {
      "cell_type": "markdown",
      "source": [
        "### 6. Regular Expressions\n",
        "\n",
        "*Task*:\n",
        "\n",
        "* Write a Python function extract_phone_numbers(text) that extracts all phone numbers from a given text. The phone numbers should be in the format (xxx) xxx-xxxx.\n",
        "\n",
        "\n",
        "sample_text = (\n",
        "    \"For any support regarding our Bangalore office, call us at +91-9876543210 between 9 AM to 6 PM. \"\n",
        "    \"If you are located in Mumbai, you can also reach our helpdesk at 9123456789 for urgent assistance. \"\n",
        "    \"Additionally, our Delhi branch can be contacted at +91-9988776655 during weekdays.\"\n",
        ")\n",
        "\n",
        "\n",
        "\n",
        "\n",
        "*Expected Output*:\n",
        "\n",
        "\n",
        "['+91-9876543210', '+91-9988776655']\n"
      ],
      "metadata": {
        "id": "buuDAsX_2ZEg"
      }
    },
    {
      "cell_type": "code",
      "source": [
        "import re\n",
        "\n",
        "sample_text = \"\"\"\n",
        "For any support regarding our Bangalore office, call us at +91-9876543210 between 9 AM to 6 PM. If you are located in Mumbai, you can also reach our helpdesk at 9123456789 for urgent assistance. Additionally, our Delhi branch can be contacted at +91-9988776655 during weekdays.\n",
        "\"\"\"\n",
        "\n",
        "def extract_phone_numbers(sample_text):\n",
        "  pattern = r\"\\+\\d{2}\\-\\d{10}\"\n",
        "  matches = re.findall(pattern,sample_text)\n",
        "  return matches\n",
        "\n",
        "extract_phone_numbers(sample_text)\n"
      ],
      "metadata": {
        "id": "Nx0oXsT92Ytu",
        "colab": {
          "base_uri": "https://localhost:8080/"
        },
        "outputId": "32a86039-d429-4280-bd5c-96649d858be8"
      },
      "execution_count": 45,
      "outputs": [
        {
          "output_type": "execute_result",
          "data": {
            "text/plain": [
              "['+91-9876543210', '+91-9988776655']"
            ]
          },
          "metadata": {},
          "execution_count": 45
        }
      ]
    },
    {
      "cell_type": "markdown",
      "source": [
        "\n",
        "*Expected Output*:\n",
        "\n",
        "\n",
        "['+91-9876543210', '+91-9988776655']"
      ],
      "metadata": {
        "id": "6uPEN50JQ4IP"
      }
    }
  ]
}